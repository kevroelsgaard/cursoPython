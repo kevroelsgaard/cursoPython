{
 "cells": [
  {
   "cell_type": "markdown",
   "metadata": {},
   "source": [
    "### Ejercicio 1: Manipulación de listas\n",
    "\n",
    "Dada la siguiente lista de números:\n",
    "\n",
    "```python\n",
    "numeros = [5, 10, 15, 20, 25, 30]\n",
    "```\n",
    "\n",
    "1. Cambia el segundo elemento de la lista a `12`.\n",
    "2. Agrega el número `35` al final de la lista.\n",
    "3. Elimina el primer elemento de la lista.\n",
    "4. Imprime el número total de elementos en la lista.\n",
    "5. Utiliza un bucle `for` para imprimir cada número multiplicado por 2."
   ]
  },
  {
   "cell_type": "code",
   "execution_count": 6,
   "metadata": {},
   "outputs": [
    {
     "data": {
      "text/plain": [
       "[5, 12, 15, 20, 25, 30]"
      ]
     },
     "execution_count": 6,
     "metadata": {},
     "output_type": "execute_result"
    }
   ],
   "source": [
    "numeros = [5, 10, 15, 20, 25, 30]\n",
    "\n",
    "numeros[1] = 12\n",
    "\n",
    "numeros"
   ]
  },
  {
   "cell_type": "code",
   "execution_count": 9,
   "metadata": {},
   "outputs": [
    {
     "data": {
      "text/plain": [
       "[5, 12, 15, 20, 25, 30, 35]"
      ]
     },
     "execution_count": 9,
     "metadata": {},
     "output_type": "execute_result"
    }
   ],
   "source": [
    "numeros.append(35)\n",
    "numeros"
   ]
  },
  {
   "cell_type": "code",
   "execution_count": 10,
   "metadata": {},
   "outputs": [
    {
     "data": {
      "text/plain": [
       "5"
      ]
     },
     "execution_count": 10,
     "metadata": {},
     "output_type": "execute_result"
    }
   ],
   "source": [
    "numeros.pop(0)"
   ]
  },
  {
   "cell_type": "code",
   "execution_count": 11,
   "metadata": {},
   "outputs": [
    {
     "data": {
      "text/plain": [
       "[12, 15, 20, 25, 30, 35]"
      ]
     },
     "execution_count": 11,
     "metadata": {},
     "output_type": "execute_result"
    }
   ],
   "source": [
    "numeros"
   ]
  },
  {
   "cell_type": "code",
   "execution_count": 12,
   "metadata": {},
   "outputs": [
    {
     "data": {
      "text/plain": [
       "6"
      ]
     },
     "execution_count": 12,
     "metadata": {},
     "output_type": "execute_result"
    }
   ],
   "source": [
    "len(numeros)"
   ]
  },
  {
   "cell_type": "code",
   "execution_count": 15,
   "metadata": {},
   "outputs": [
    {
     "name": "stdout",
     "output_type": "stream",
     "text": [
      "24\n",
      "30\n",
      "40\n",
      "50\n",
      "60\n",
      "70\n"
     ]
    }
   ],
   "source": [
    "for num in numeros:\n",
    "    print(num*2)"
   ]
  },
  {
   "cell_type": "markdown",
   "metadata": {},
   "source": [
    "### Ejercicio 2: Diccionarios y condicionales\n",
    "\n",
    "Dado el siguiente diccionario que representa a una persona:\n",
    "\n",
    "```python\n",
    "persona = {'nombre': 'Ana', 'edad': 28, 'ciudad': 'Buenos Aires'}\n",
    "```\n",
    "\n",
    "1. Imprime el valor de la clave `nombre`.\n",
    "2. Agrega una nueva clave llamada `profesión` con el valor `'Ingeniera'`.\n",
    "3. Modifica la edad a `29`.\n",
    "4. Escribe una estructura condicional (`if`) que imprima \"Mayor de edad\" si la persona tiene 18 años o más, y \"Menor de edad\" en caso contrario."
   ]
  },
  {
   "cell_type": "code",
   "execution_count": 19,
   "metadata": {},
   "outputs": [
    {
     "name": "stdout",
     "output_type": "stream",
     "text": [
      "Ana\n"
     ]
    }
   ],
   "source": [
    "persona = {'nombre': 'Ana', 'edad': 28, 'ciudad': 'Buenos Aires'}\n",
    "\n",
    "print(persona['nombre'])"
   ]
  },
  {
   "cell_type": "code",
   "execution_count": 23,
   "metadata": {},
   "outputs": [
    {
     "name": "stdout",
     "output_type": "stream",
     "text": [
      "{'nombre': 'Ana', 'edad': 28, 'ciudad': 'Buenos Aires', 'profesion': 'Ingenieria'}\n"
     ]
    }
   ],
   "source": [
    "persona['profesion'] = 'Ingenieria'\n",
    "\n",
    "print(persona)\n"
   ]
  },
  {
   "cell_type": "code",
   "execution_count": 25,
   "metadata": {},
   "outputs": [
    {
     "name": "stdout",
     "output_type": "stream",
     "text": [
      "{'nombre': 'Ana', 'edad': 29, 'ciudad': 'Buenos Aires', 'profesion': 'Ingenieria'}\n"
     ]
    }
   ],
   "source": [
    "persona['edad'] = 29\n",
    "print(persona)"
   ]
  },
  {
   "cell_type": "code",
   "execution_count": 29,
   "metadata": {},
   "outputs": [
    {
     "name": "stdout",
     "output_type": "stream",
     "text": [
      "Mayor de edad\n"
     ]
    }
   ],
   "source": [
    "if persona['edad'] > 18:\n",
    "    print(\"Mayor de edad\")\n",
    "else:\n",
    "    print(\"Menor de edad\")"
   ]
  },
  {
   "cell_type": "markdown",
   "metadata": {},
   "source": [
    "### Ejercicio 3: Conjuntos y bucles `while`\n",
    "\n",
    "Dado el conjunto:\n",
    "\n",
    "```python\n",
    "numeros_set = {1, 2, 3, 4, 5}\n",
    "```\n",
    "\n",
    "1. Agrega los números `6` y `7` al conjunto.\n",
    "2. Escribe un bucle `while` que elimine un número del conjunto en cada iteración hasta que el conjunto esté vacío. Imprime el conjunto después de cada eliminación."
   ]
  },
  {
   "cell_type": "code",
   "execution_count": 36,
   "metadata": {},
   "outputs": [
    {
     "data": {
      "text/plain": [
       "{1, 2, 3, 4, 5, 6, 7}"
      ]
     },
     "execution_count": 36,
     "metadata": {},
     "output_type": "execute_result"
    }
   ],
   "source": [
    "numeros_set = {1, 2, 3, 4, 5}\n",
    "\n",
    "numeros_set.add(6)\n",
    "numeros_set.add(7)\n",
    "numeros_set"
   ]
  },
  {
   "cell_type": "code",
   "execution_count": 37,
   "metadata": {},
   "outputs": [
    {
     "name": "stdout",
     "output_type": "stream",
     "text": [
      "{2, 3, 4, 5, 6, 7}\n",
      "{3, 4, 5, 6, 7}\n",
      "{4, 5, 6, 7}\n",
      "{5, 6, 7}\n",
      "{6, 7}\n",
      "{7}\n",
      "set()\n"
     ]
    }
   ],
   "source": [
    "while len(numeros_set) != 0:\n",
    "    numeros_set.pop()\n",
    "    print(numeros_set)"
   ]
  },
  {
   "cell_type": "markdown",
   "metadata": {},
   "source": [
    "### Ejercicio 4: Tuplas y ciclos `for`\n",
    "\n",
    "Dada la siguiente tupla:\n",
    "\n",
    "```python\n",
    "colores = ('rojo', 'verde', 'azul', 'amarillo')\n",
    "```\n",
    "\n",
    "1. Escribe un ciclo `for` que imprima cada color en la tupla.\n",
    "2. Crea una nueva tupla que contenga los mismos colores pero en orden inverso. Imprime la nueva tupla."
   ]
  },
  {
   "cell_type": "code",
   "execution_count": 38,
   "metadata": {},
   "outputs": [
    {
     "name": "stdout",
     "output_type": "stream",
     "text": [
      "rojo\n",
      "verde\n",
      "azul\n",
      "amarillo\n"
     ]
    }
   ],
   "source": [
    "colores = ('rojo', 'verde', 'azul', 'amarillo')\n",
    "\n",
    "for colorcito in colores:\n",
    "    print(colorcito)"
   ]
  },
  {
   "cell_type": "code",
   "execution_count": 42,
   "metadata": {},
   "outputs": [
    {
     "name": "stdout",
     "output_type": "stream",
     "text": [
      "('amarillo', 'azul', 'verde', 'rojo')\n"
     ]
    }
   ],
   "source": [
    "colores = ('rojo', 'verde', 'azul', 'amarillo')\n",
    "colores_reversed = colores[::-1]\n",
    "print(colores_reversed)"
   ]
  },
  {
   "cell_type": "markdown",
   "metadata": {},
   "source": [
    "### Ejercicio 5: Números y control de flujo\n",
    "\n",
    "Escribe un programa que realice lo siguiente:\n",
    "\n",
    "1. Solicite al usuario ingresar un número entero.\n",
    "2. Si el número es positivo, imprima \"El número es positivo\".\n",
    "3. Si el número es negativo, imprima \"El número es negativo\".\n",
    "4. Si el número es cero, imprima \"El número es cero\".\n",
    "5. Utiliza un bucle `for` para imprimir todos los números del 1 hasta el número ingresado (solo si es positivo)."
   ]
  },
  {
   "cell_type": "code",
   "execution_count": 4,
   "metadata": {},
   "outputs": [
    {
     "name": "stdout",
     "output_type": "stream",
     "text": [
      "El numero es 0\n"
     ]
    }
   ],
   "source": [
    "num = int(input('Ingresa un numero entero bb'))\n",
    "\n",
    "if(num>0):\n",
    "    print('El numero es positivo')\n",
    "    for i in range(num):\n",
    "        print(i+1)\n",
    "elif(num<0):\n",
    "    print('El numero es negativo')\n",
    "else:\n",
    "    print('El numero es 0')\n"
   ]
  },
  {
   "cell_type": "markdown",
   "metadata": {},
   "source": [
    "### Ejercicio 6 (Investigación): Control de flujos con inputs\n",
    "\n",
    "Investiga el concepto de **inputs** en Python. Escribe un programa que:\n",
    "\n",
    "1. Solicite al usuario que ingrese dos números.\n",
    "2. Intente dividir el primer número entre el segundo.\n",
    "3. Si el usuario intenta dividir entre cero, captura la excepción y muestra un mensaje adecuado como \"Error: no se puede dividir entre cero\"."
   ]
  },
  {
   "cell_type": "code",
   "execution_count": null,
   "metadata": {},
   "outputs": [
    {
     "ename": "",
     "evalue": "",
     "output_type": "error",
     "traceback": [
      "\u001b[1;31mLa ejecución de celdas con 'entorno_virtual_prueba (Python 3.9.6)' requiere el paquete ipykernel.\n",
      "\u001b[1;31mEjecute el siguiente comando para instalar 'ipykernel' en el entorno de Python. comando \n",
      "\u001b[1;31m: '/Users/kevinroelsgaard/Documents/GitHub/cursoPython/entorno_virtual_prueba/bin/python -m pip install ipykernel -U --force-reinstall'"
     ]
    }
   ],
   "source": [
    "num = int(input('Ingresa un numero bb'))\n",
    "denom = int(input('Ingresa otro numero bb'))\n",
    "try:\n",
    "    if(denom!= 0):\n",
    "        print(num/denom)\n",
    "    else:\n",
    "        print(\"Error: no se puede dividir entre cero\")\n",
    "except Exception as e:\n",
    "    print(\"error: {e}\")\n"
   ]
  }
 ],
 "metadata": {
  "kernelspec": {
   "display_name": "entorno_virtual_prueba",
   "language": "python",
   "name": "python3"
  },
  "language_info": {
   "codemirror_mode": {
    "name": "ipython",
    "version": 3
   },
   "file_extension": ".py",
   "mimetype": "text/x-python",
   "name": "python",
   "nbconvert_exporter": "python",
   "pygments_lexer": "ipython3",
   "version": "3.9.6"
  }
 },
 "nbformat": 4,
 "nbformat_minor": 2
}
